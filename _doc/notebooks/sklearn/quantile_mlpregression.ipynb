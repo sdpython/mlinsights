{
  "cells": [
    {
      "cell_type": "markdown",
      "metadata": {},
      "source": [
        "# Quantile MLPRegressor\n",
        "\n",
        "[scikit-learn](http://scikit-learn.org/stable/) does not have a quantile regression for multi-layer perceptron. [mlinsights](https://sdpython.github.io/doc/dev/mlinsights/) implements a version of it based on the *scikit-learn* model. The implementation overwrites method ``_backprop``."
      ]
    },
    {
      "cell_type": "code",
      "execution_count": 1,
      "metadata": {},
      "outputs": [],
      "source": [
        "%matplotlib inline"
      ]
    },
    {
      "cell_type": "code",
      "execution_count": 2,
      "metadata": {},
      "outputs": [],
      "source": [
        "import warnings\n",
        "warnings.simplefilter(\"ignore\")"
      ]
    },
    {
      "cell_type": "markdown",
      "metadata": {},
      "source": [
        "We generate some dummy data."
      ]
    },
    {
      "cell_type": "code",
      "execution_count": 3,
      "metadata": {},
      "outputs": [],
      "source": [
        "import numpy\n",
        "X = numpy.random.random(1000)\n",
        "eps1 = (numpy.random.random(900) - 0.5) * 0.1\n",
        "eps2 = (numpy.random.random(100)) * 10\n",
        "eps = numpy.hstack([eps1, eps2])\n",
        "X = X.reshape((1000, 1))\n",
        "Y = X.ravel() * 3.4 + 5.6 + eps"
      ]
    },
    {
      "cell_type": "code",
      "execution_count": 4,
      "metadata": {},
      "outputs": [
        {
          "data": {
            "text/plain": [
              "MLPRegressor(activation='tanh', hidden_layer_sizes=(30,))"
            ]
          },
          "execution_count": 5,
          "metadata": {},
          "output_type": "execute_result"
        }
      ],
      "source": [
        "from sklearn.neural_network import MLPRegressor\n",
        "clr = MLPRegressor(hidden_layer_sizes=(30,), activation='tanh')\n",
        "clr.fit(X, Y)"
      ]
    },
    {
      "cell_type": "code",
      "execution_count": 5,
      "metadata": {},
      "outputs": [
        {
          "data": {
            "text/plain": [
              "QuantileMLPRegressor(activation='tanh', hidden_layer_sizes=(30,))"
            ]
          },
          "execution_count": 6,
          "metadata": {},
          "output_type": "execute_result"
        }
      ],
      "source": [
        "from mlinsights.mlmodel import QuantileMLPRegressor\n",
        "clq = QuantileMLPRegressor(hidden_layer_sizes=(30,), activation='tanh')\n",
        "clq.fit(X, Y)"
      ]
    },
    {
      "cell_type": "code",
      "execution_count": 6,
      "metadata": {},
      "outputs": [
        {
          "data": {
            "text/html": [
              "<div>\n",
              "<style scoped>\n",
              "    .dataframe tbody tr th:only-of-type {\n",
              "        vertical-align: middle;\n",
              "    }\n",
              "\n",
              "    .dataframe tbody tr th {\n",
              "        vertical-align: top;\n",
              "    }\n",
              "\n",
              "    .dataframe thead th {\n",
              "        text-align: right;\n",
              "    }\n",
              "</style>\n",
              "<table border=\"1\" class=\"dataframe\">\n",
              "  <thead>\n",
              "    <tr style=\"text-align: right;\">\n",
              "      <th></th>\n",
              "      <th>X</th>\n",
              "      <th>Y</th>\n",
              "      <th>clr</th>\n",
              "      <th>clq</th>\n",
              "    </tr>\n",
              "  </thead>\n",
              "  <tbody>\n",
              "    <tr>\n",
              "      <th>0</th>\n",
              "      <td>0.251734</td>\n",
              "      <td>6.470634</td>\n",
              "      <td>7.059780</td>\n",
              "      <td>6.481283</td>\n",
              "    </tr>\n",
              "    <tr>\n",
              "      <th>1</th>\n",
              "      <td>0.538065</td>\n",
              "      <td>7.423694</td>\n",
              "      <td>8.029974</td>\n",
              "      <td>7.510084</td>\n",
              "    </tr>\n",
              "    <tr>\n",
              "      <th>2</th>\n",
              "      <td>0.530510</td>\n",
              "      <td>7.411181</td>\n",
              "      <td>8.006414</td>\n",
              "      <td>7.485186</td>\n",
              "    </tr>\n",
              "    <tr>\n",
              "      <th>3</th>\n",
              "      <td>0.048348</td>\n",
              "      <td>5.808051</td>\n",
              "      <td>6.278572</td>\n",
              "      <td>5.646920</td>\n",
              "    </tr>\n",
              "    <tr>\n",
              "      <th>4</th>\n",
              "      <td>0.882162</td>\n",
              "      <td>8.624456</td>\n",
              "      <td>8.986741</td>\n",
              "      <td>8.519049</td>\n",
              "    </tr>\n",
              "  </tbody>\n",
              "</table>\n",
              "</div>"
            ],
            "text/plain": [
              "          X         Y       clr       clq\n",
              "0  0.251734  6.470634  7.059780  6.481283\n",
              "1  0.538065  7.423694  8.029974  7.510084\n",
              "2  0.530510  7.411181  8.006414  7.485186\n",
              "3  0.048348  5.808051  6.278572  5.646920\n",
              "4  0.882162  8.624456  8.986741  8.519049"
            ]
          },
          "execution_count": 7,
          "metadata": {},
          "output_type": "execute_result"
        }
      ],
      "source": [
        "from pandas import DataFrame\n",
        "data= dict(X=X.ravel(), Y=Y, clr=clr.predict(X), clq=clq.predict(X))\n",
        "df = DataFrame(data)\n",
        "df.head()"
      ]
    },
    {
      "cell_type": "code",
      "execution_count": 7,
      "metadata": {},
      "outputs": [
        {
          "data": {
            "image/png": "[encoded data removed]",
            "text/plain": [
              "<Figure size 720x288 with 1 Axes>"
            ]
          },
          "metadata": {
            "needs_background": "light"
          },
          "output_type": "display_data"
        }
      ],
      "source": [
        "import matplotlib.pyplot as plt\n",
        "fig, ax = plt.subplots(1, 1, figsize=(10, 4))\n",
        "choice = numpy.random.choice(X.shape[0]-1, size=100)\n",
        "xx = X.ravel()[choice]\n",
        "yy = Y[choice]\n",
        "ax.plot(xx, yy, '.', label=\"data\")\n",
        "xx = numpy.array([[0], [1]])\n",
        "y1 = clr.predict(xx)\n",
        "y2 = clq.predict(xx)\n",
        "ax.plot(xx, y1, \"--\", label=\"L2\")\n",
        "ax.plot(xx, y2, \"--\", label=\"L1\")\n",
        "ax.set_title(\"Quantile (L1) vs Square (L2) for MLPRegressor\")\n",
        "ax.legend();"
      ]
    }
  ],
  "metadata": {
    "kernelspec": {
      "display_name": "Python 3",
      "language": "python",
      "name": "python3"
    },
    "language_info": {
      "codemirror_mode": {
        "name": "ipython",
        "version": 3
      },
      "file_extension": ".py",
      "mimetype": "text/x-python",
      "name": "python",
      "nbconvert_exporter": "python",
      "pygments_lexer": "ipython3",
      "version": "3.9.5"
    }
  },
  "nbformat": 4,
  "nbformat_minor": 2
}
