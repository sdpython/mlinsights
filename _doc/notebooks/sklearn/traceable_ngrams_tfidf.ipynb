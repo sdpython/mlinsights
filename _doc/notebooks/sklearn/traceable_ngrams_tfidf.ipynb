{
 "cells": [
  {
   "cell_type": "markdown",
   "metadata": {},
   "source": [
    "# Traceable n-grams with tf-idf\n",
    "\n",
    "The notebook looks into the way n-grams are stored in [CountVectorizer](https://scikit-learn.org/stable/modules/generated/sklearn.feature_extraction.text.CountVectorizer.html) and [TfidfVectorizer](https://scikit-learn.org/stable/modules/generated/sklearn.feature_extraction.text.TfidfVectorizer.html#sklearn.feature_extraction.text.TfidfVectorizer) and how the current storage (<= 0.21) is ambiguous in some cases."
   ]
  },
  {
   "cell_type": "code",
   "execution_count": 1,
   "metadata": {},
   "outputs": [
    {
     "data": {
      "text/html": [
       "<div id=\"my_id_menu_nb\">run previous cell, wait for 2 seconds</div>\n",
       "<script>\n",
       "function repeat_indent_string(n){\n",
       "    var a = \"\" ;\n",
       "    for ( ; n > 0 ; --n)\n",
       "        a += \"    \";\n",
       "    return a;\n",
       "}\n",
       "// look up into all sections and builds an automated menu //\n",
       "var update_menu_string = function(begin, lfirst, llast, sformat, send, keep_item, begin_format, end_format) {\n",
       "    var anchors = document.getElementsByClassName(\"section\");\n",
       "    if (anchors.length == 0) {\n",
       "        anchors = document.getElementsByClassName(\"text_cell_render rendered_html\");\n",
       "    }\n",
       "    var i,t;\n",
       "    var text_menu = begin;\n",
       "    var text_memo = \"<pre>\\nlength:\" + anchors.length + \"\\n\";\n",
       "    var ind = \"\";\n",
       "    var memo_level = 1;\n",
       "    var href;\n",
       "    var tags = [];\n",
       "    var main_item = 0;\n",
       "    var format_open = 0;\n",
       "    for (i = 0; i <= llast; i++)\n",
       "        tags.push(\"h\" + i);\n",
       "\n",
       "    for (i = 0; i < anchors.length; i++) {\n",
       "        text_memo += \"**\" + anchors[i].id + \"--\\n\";\n",
       "\n",
       "        var child = null;\n",
       "        for(t = 0; t < tags.length; t++) {\n",
       "            var r = anchors[i].getElementsByTagName(tags[t]);\n",
       "            if (r.length > 0) {\n",
       "child = r[0];\n",
       "break;\n",
       "            }\n",
       "        }\n",
       "        if (child == null) {\n",
       "            text_memo += \"null\\n\";\n",
       "            continue;\n",
       "        }\n",
       "        if (anchors[i].hasAttribute(\"id\")) {\n",
       "            // when converted in RST\n",
       "            href = anchors[i].id;\n",
       "            text_memo += \"#1-\" + href;\n",
       "            // passer à child suivant (le chercher)\n",
       "        }\n",
       "        else if (child.hasAttribute(\"id\")) {\n",
       "            // in a notebook\n",
       "            href = child.id;\n",
       "            text_memo += \"#2-\" + href;\n",
       "        }\n",
       "        else {\n",
       "            text_memo += \"#3-\" + \"*\" + \"\\n\";\n",
       "            continue;\n",
       "        }\n",
       "        var title = child.textContent;\n",
       "        var level = parseInt(child.tagName.substring(1,2));\n",
       "\n",
       "        text_memo += \"--\" + level + \"?\" + lfirst + \"--\" + title + \"\\n\";\n",
       "\n",
       "        if ((level < lfirst) || (level > llast)) {\n",
       "            continue ;\n",
       "        }\n",
       "        if (title.endsWith('¶')) {\n",
       "            title = title.substring(0,title.length-1).replace(\"<\", \"&lt;\")\n",
       "         .replace(\">\", \"&gt;\").replace(\"&\", \"&amp;\");\n",
       "        }\n",
       "        if (title.length == 0) {\n",
       "            continue;\n",
       "        }\n",
       "\n",
       "        while (level < memo_level) {\n",
       "            text_menu += end_format + \"</ul>\\n\";\n",
       "            format_open -= 1;\n",
       "            memo_level -= 1;\n",
       "        }\n",
       "        if (level == lfirst) {\n",
       "            main_item += 1;\n",
       "        }\n",
       "        if (keep_item != -1 && main_item != keep_item + 1) {\n",
       "            // alert(main_item + \" - \" + level + \" - \" + keep_item);\n",
       "            continue;\n",
       "        }\n",
       "        while (level > memo_level) {\n",
       "            text_menu += \"<ul>\\n\";\n",
       "            memo_level += 1;\n",
       "        }\n",
       "        text_menu += repeat_indent_string(level-2);\n",
       "        text_menu += begin_format + sformat.replace(\"__HREF__\", href).replace(\"__TITLE__\", title);\n",
       "        format_open += 1;\n",
       "    }\n",
       "    while (1 < memo_level) {\n",
       "        text_menu += end_format + \"</ul>\\n\";\n",
       "        memo_level -= 1;\n",
       "        format_open -= 1;\n",
       "    }\n",
       "    text_menu += send;\n",
       "    //text_menu += \"\\n\" + text_memo;\n",
       "\n",
       "    while (format_open > 0) {\n",
       "        text_menu += end_format;\n",
       "        format_open -= 1;\n",
       "    }\n",
       "    return text_menu;\n",
       "};\n",
       "var update_menu = function() {\n",
       "    var sbegin = \"\";\n",
       "    var sformat = '<a href=\"#__HREF__\">__TITLE__</a>';\n",
       "    var send = \"\";\n",
       "    var begin_format = '<li>';\n",
       "    var end_format = '</li>';\n",
       "    var keep_item = -1;\n",
       "    var text_menu = update_menu_string(sbegin, 2, 4, sformat, send, keep_item,\n",
       "       begin_format, end_format);\n",
       "    var menu = document.getElementById(\"my_id_menu_nb\");\n",
       "    menu.innerHTML=text_menu;\n",
       "};\n",
       "window.setTimeout(update_menu,2000);\n",
       "            </script>"
      ],
      "text/plain": [
       "<IPython.core.display.HTML object>"
      ]
     },
     "execution_count": 2,
     "metadata": {},
     "output_type": "execute_result"
    }
   ],
   "source": [
    "from jyquickhelper import add_notebook_menu\n",
    "\n",
    "add_notebook_menu()"
   ]
  },
  {
   "cell_type": "markdown",
   "metadata": {},
   "source": [
    "## Example with CountVectorizer"
   ]
  },
  {
   "cell_type": "markdown",
   "metadata": {},
   "source": [
    "### scikit-learn version"
   ]
  },
  {
   "cell_type": "code",
   "execution_count": 2,
   "metadata": {},
   "outputs": [
    {
     "data": {
      "text/plain": [
       "matrix([[1, 0, 1, 1, 1, 1, 0, 0, 0, 1, 1, 0, 1, 0, 1, 0],\n",
       "        [2, 1, 0, 0, 1, 1, 0, 1, 1, 1, 0, 1, 1, 1, 0, 0],\n",
       "        [1, 0, 1, 1, 1, 0, 1, 0, 0, 1, 1, 0, 1, 0, 0, 1],\n",
       "        [0, 0, 0, 0, 0, 0, 0, 0, 0, 0, 0, 0, 0, 0, 0, 0]], dtype=int64)"
      ]
     },
     "execution_count": 3,
     "metadata": {},
     "output_type": "execute_result"
    }
   ],
   "source": [
    "import numpy\n",
    "from sklearn.feature_extraction.text import CountVectorizer\n",
    "\n",
    "corpus = numpy.array(\n",
    "    [\n",
    "        \"This is the first document.\",\n",
    "        \"This document is the second document.\",\n",
    "        \"Is this the first document?\",\n",
    "        \"\",\n",
    "    ]\n",
    ").reshape((4,))\n",
    "\n",
    "mod1 = CountVectorizer(ngram_range=(1, 2))\n",
    "mod1.fit(corpus)\n",
    "mod1.transform(corpus).todense()"
   ]
  },
  {
   "cell_type": "code",
   "execution_count": 3,
   "metadata": {},
   "outputs": [
    {
     "data": {
      "text/plain": [
       "{'this': 12,\n",
       " 'is': 4,\n",
       " 'the': 9,\n",
       " 'first': 2,\n",
       " 'document': 0,\n",
       " 'this is': 14,\n",
       " 'is the': 5,\n",
       " 'the first': 10,\n",
       " 'first document': 3,\n",
       " 'second': 7,\n",
       " 'this document': 13,\n",
       " 'document is': 1,\n",
       " 'the second': 11,\n",
       " 'second document': 8,\n",
       " 'is this': 6,\n",
       " 'this the': 15}"
      ]
     },
     "execution_count": 4,
     "metadata": {},
     "output_type": "execute_result"
    }
   ],
   "source": [
    "mod1.vocabulary_"
   ]
  },
  {
   "cell_type": "code",
   "execution_count": 4,
   "metadata": {},
   "outputs": [
    {
     "data": {
      "text/plain": [
       "matrix([[1, 0, 1, 1, 1, 1, 0, 0, 0, 1, 1, 0, 1, 0, 1, 0],\n",
       "        [2, 1, 0, 0, 1, 1, 0, 1, 1, 1, 0, 1, 1, 1, 0, 0],\n",
       "        [1, 0, 1, 1, 1, 0, 1, 0, 0, 1, 1, 0, 1, 0, 0, 1],\n",
       "        [0, 0, 0, 0, 0, 0, 0, 0, 0, 0, 0, 0, 0, 0, 0, 0]], dtype=int64)"
      ]
     },
     "execution_count": 5,
     "metadata": {},
     "output_type": "execute_result"
    }
   ],
   "source": [
    "import numpy\n",
    "from mlinsights.mlmodel.sklearn_text import TraceableCountVectorizer\n",
    "\n",
    "corpus = numpy.array(\n",
    "    [\n",
    "        \"This is the first document.\",\n",
    "        \"This document is the second document.\",\n",
    "        \"Is this the first document?\",\n",
    "        \"\",\n",
    "    ]\n",
    ").reshape((4,))\n",
    "\n",
    "mod2 = TraceableCountVectorizer(ngram_range=(1, 2))\n",
    "mod2.fit(corpus)\n",
    "mod2.transform(corpus).todense()"
   ]
  },
  {
   "cell_type": "code",
   "execution_count": 5,
   "metadata": {},
   "outputs": [
    {
     "data": {
      "text/plain": [
       "{('this',): 12,\n",
       " ('is',): 4,\n",
       " ('the',): 9,\n",
       " ('first',): 2,\n",
       " ('document',): 0,\n",
       " ('this', 'is'): 14,\n",
       " ('is', 'the'): 5,\n",
       " ('the', 'first'): 10,\n",
       " ('first', 'document'): 3,\n",
       " ('second',): 7,\n",
       " ('this', 'document'): 13,\n",
       " ('document', 'is'): 1,\n",
       " ('the', 'second'): 11,\n",
       " ('second', 'document'): 8,\n",
       " ('is', 'this'): 6,\n",
       " ('this', 'the'): 15}"
      ]
     },
     "execution_count": 6,
     "metadata": {},
     "output_type": "execute_result"
    }
   ],
   "source": [
    "mod2.vocabulary_"
   ]
  },
  {
   "cell_type": "markdown",
   "metadata": {},
   "source": [
    "The new class does the exact same thing but keeps n-grams in a more explicit form. The original form as a string is sometimes ambiguous as next example shows."
   ]
  },
  {
   "cell_type": "markdown",
   "metadata": {},
   "source": [
    "## Funny example with TfidfVectorizer"
   ]
  },
  {
   "cell_type": "markdown",
   "metadata": {},
   "source": [
    "### scikit-learn version"
   ]
  },
  {
   "cell_type": "code",
   "execution_count": 6,
   "metadata": {},
   "outputs": [
    {
     "data": {
      "text/plain": [
       "matrix([[0.        , 0.        , 0.32940523, 0.32940523, 0.        ,\n",
       "         0.        , 0.        , 0.        , 0.25970687, 0.25970687,\n",
       "         0.        , 0.        , 0.25970687, 0.25970687, 0.        ,\n",
       "         0.        , 0.        , 0.        , 0.        , 0.25970687,\n",
       "         0.        , 0.        , 0.25970687, 0.25970687, 0.        ,\n",
       "         0.        , 0.25970687, 0.25970687, 0.25970687, 0.        ,\n",
       "         0.32940523, 0.        , 0.        ],\n",
       "        [0.24528087, 0.24528087, 0.        , 0.        , 0.24528087,\n",
       "         0.24528087, 0.24528087, 0.24528087, 0.        , 0.        ,\n",
       "         0.24528087, 0.24528087, 0.        , 0.        , 0.        ,\n",
       "         0.        , 0.        , 0.        , 0.24528087, 0.        ,\n",
       "         0.24528087, 0.24528087, 0.        , 0.        , 0.24528087,\n",
       "         0.24528087, 0.        , 0.        , 0.19338226, 0.24528087,\n",
       "         0.        , 0.24528087, 0.24528087],\n",
       "        [0.        , 0.        , 0.        , 0.        , 0.        ,\n",
       "         0.        , 0.        , 0.        , 0.25453384, 0.25453384,\n",
       "         0.        , 0.        , 0.25453384, 0.25453384, 0.3228439 ,\n",
       "         0.3228439 , 0.3228439 , 0.3228439 , 0.        , 0.25453384,\n",
       "         0.        , 0.        , 0.25453384, 0.25453384, 0.        ,\n",
       "         0.        , 0.25453384, 0.25453384, 0.        , 0.        ,\n",
       "         0.        , 0.        , 0.        ],\n",
       "        [0.        , 0.        , 0.        , 0.        , 0.        ,\n",
       "         0.        , 0.        , 0.        , 0.        , 0.        ,\n",
       "         0.        , 0.        , 0.        , 0.        , 0.        ,\n",
       "         0.        , 0.        , 0.        , 0.        , 0.        ,\n",
       "         0.        , 0.        , 0.        , 0.        , 0.        ,\n",
       "         0.        , 0.        , 0.        , 0.        , 0.        ,\n",
       "         0.        , 0.        , 0.        ]])"
      ]
     },
     "execution_count": 7,
     "metadata": {},
     "output_type": "execute_result"
    }
   ],
   "source": [
    "import numpy\n",
    "from sklearn.feature_extraction.text import TfidfVectorizer\n",
    "\n",
    "corpus = numpy.array(\n",
    "    [\n",
    "        \"This is the first document.\",\n",
    "        \"This document is the second document.\",\n",
    "        \"Is this the first document?\",\n",
    "        \"\",\n",
    "    ]\n",
    ").reshape((4,))\n",
    "\n",
    "mod1 = TfidfVectorizer(ngram_range=(1, 2), token_pattern=\"[a-zA-Z ]{1,4}\")\n",
    "mod1.fit(corpus)\n",
    "mod1.transform(corpus).todense()"
   ]
  },
  {
   "cell_type": "code",
   "execution_count": 7,
   "metadata": {},
   "outputs": [
    {
     "data": {
      "text/plain": [
       "{'this': 28,\n",
       " ' is ': 2,\n",
       " 'the ': 26,\n",
       " 'firs': 12,\n",
       " 't do': 22,\n",
       " 'cume': 8,\n",
       " 'nt': 19,\n",
       " 'this  is ': 30,\n",
       " ' is  the ': 3,\n",
       " 'the  firs': 27,\n",
       " 'firs t do': 13,\n",
       " 't do cume': 23,\n",
       " 'cume nt': 9,\n",
       " ' doc': 0,\n",
       " 'umen': 31,\n",
       " 't is': 24,\n",
       " ' the': 6,\n",
       " ' sec': 4,\n",
       " 'ond ': 20,\n",
       " 'docu': 10,\n",
       " 'ment': 18,\n",
       " 'this  doc': 29,\n",
       " ' doc umen': 1,\n",
       " 'umen t is': 32,\n",
       " 't is  the': 25,\n",
       " ' the  sec': 7,\n",
       " ' sec ond ': 5,\n",
       " 'ond  docu': 21,\n",
       " 'docu ment': 11,\n",
       " 'is t': 16,\n",
       " 'his ': 14,\n",
       " 'is t his ': 17,\n",
       " 'his  the ': 15}"
      ]
     },
     "execution_count": 8,
     "metadata": {},
     "output_type": "execute_result"
    }
   ],
   "source": [
    "mod1.vocabulary_"
   ]
  },
  {
   "cell_type": "markdown",
   "metadata": {},
   "source": [
    "### mlinsights version"
   ]
  },
  {
   "cell_type": "code",
   "execution_count": 8,
   "metadata": {},
   "outputs": [
    {
     "data": {
      "text/plain": [
       "matrix([[0.        , 0.        , 0.32940523, 0.32940523, 0.        ,\n",
       "         0.        , 0.        , 0.        , 0.25970687, 0.25970687,\n",
       "         0.        , 0.        , 0.25970687, 0.25970687, 0.        ,\n",
       "         0.        , 0.        , 0.        , 0.        , 0.25970687,\n",
       "         0.        , 0.        , 0.25970687, 0.25970687, 0.        ,\n",
       "         0.        , 0.25970687, 0.25970687, 0.25970687, 0.        ,\n",
       "         0.32940523, 0.        , 0.        ],\n",
       "        [0.24528087, 0.24528087, 0.        , 0.        , 0.24528087,\n",
       "         0.24528087, 0.24528087, 0.24528087, 0.        , 0.        ,\n",
       "         0.24528087, 0.24528087, 0.        , 0.        , 0.        ,\n",
       "         0.        , 0.        , 0.        , 0.24528087, 0.        ,\n",
       "         0.24528087, 0.24528087, 0.        , 0.        , 0.24528087,\n",
       "         0.24528087, 0.        , 0.        , 0.19338226, 0.24528087,\n",
       "         0.        , 0.24528087, 0.24528087],\n",
       "        [0.        , 0.        , 0.        , 0.        , 0.        ,\n",
       "         0.        , 0.        , 0.        , 0.25453384, 0.25453384,\n",
       "         0.        , 0.        , 0.25453384, 0.25453384, 0.3228439 ,\n",
       "         0.3228439 , 0.3228439 , 0.3228439 , 0.        , 0.25453384,\n",
       "         0.        , 0.        , 0.25453384, 0.25453384, 0.        ,\n",
       "         0.        , 0.25453384, 0.25453384, 0.        , 0.        ,\n",
       "         0.        , 0.        , 0.        ],\n",
       "        [0.        , 0.        , 0.        , 0.        , 0.        ,\n",
       "         0.        , 0.        , 0.        , 0.        , 0.        ,\n",
       "         0.        , 0.        , 0.        , 0.        , 0.        ,\n",
       "         0.        , 0.        , 0.        , 0.        , 0.        ,\n",
       "         0.        , 0.        , 0.        , 0.        , 0.        ,\n",
       "         0.        , 0.        , 0.        , 0.        , 0.        ,\n",
       "         0.        , 0.        , 0.        ]])"
      ]
     },
     "execution_count": 9,
     "metadata": {},
     "output_type": "execute_result"
    }
   ],
   "source": [
    "from mlinsights.mlmodel.sklearn_text import TraceableTfidfVectorizer\n",
    "\n",
    "mod2 = TraceableTfidfVectorizer(ngram_range=(1, 2), token_pattern=\"[a-zA-Z ]{1,4}\")\n",
    "mod2.fit(corpus)\n",
    "mod2.transform(corpus).todense()"
   ]
  },
  {
   "cell_type": "code",
   "execution_count": 9,
   "metadata": {},
   "outputs": [
    {
     "data": {
      "text/plain": [
       "{('this',): 28,\n",
       " (' is ',): 2,\n",
       " ('the ',): 26,\n",
       " ('firs',): 12,\n",
       " ('t do',): 22,\n",
       " ('cume',): 8,\n",
       " ('nt',): 19,\n",
       " ('this', ' is '): 30,\n",
       " (' is ', 'the '): 3,\n",
       " ('the ', 'firs'): 27,\n",
       " ('firs', 't do'): 13,\n",
       " ('t do', 'cume'): 23,\n",
       " ('cume', 'nt'): 9,\n",
       " (' doc',): 0,\n",
       " ('umen',): 31,\n",
       " ('t is',): 24,\n",
       " (' the',): 6,\n",
       " (' sec',): 4,\n",
       " ('ond ',): 20,\n",
       " ('docu',): 10,\n",
       " ('ment',): 18,\n",
       " ('this', ' doc'): 29,\n",
       " (' doc', 'umen'): 1,\n",
       " ('umen', 't is'): 32,\n",
       " ('t is', ' the'): 25,\n",
       " (' the', ' sec'): 7,\n",
       " (' sec', 'ond '): 5,\n",
       " ('ond ', 'docu'): 21,\n",
       " ('docu', 'ment'): 11,\n",
       " ('is t',): 16,\n",
       " ('his ',): 14,\n",
       " ('is t', 'his '): 17,\n",
       " ('his ', 'the '): 15}"
      ]
     },
     "execution_count": 10,
     "metadata": {},
     "output_type": "execute_result"
    }
   ],
   "source": [
    "mod2.vocabulary_"
   ]
  },
  {
   "cell_type": "markdown",
   "metadata": {},
   "source": [
    "As you can see, the original 30th n-grams ``'t is  the'`` is a little but ambiguous. It is in fact ``('t is', ' the')`` as the *TraceableTfidfVectorizer* lets you know. The original form could have been ``('t', 'is  the')``, ``('t is', '  the')``, ``('t is ', ' the')``, ``('t is  ', 'the')``, ``('t', 'is  ', 'the')``... The regular expression gives some insights but not some information which can be easily used to guess the right one."
   ]
  },
  {
   "cell_type": "code",
   "execution_count": 10,
   "metadata": {},
   "outputs": [],
   "source": []
  }
 ],
 "metadata": {
  "kernelspec": {
   "display_name": "Python 3",
   "language": "python",
   "name": "python3"
  },
  "language_info": {
   "codemirror_mode": {
    "name": "ipython",
    "version": 3
   },
   "file_extension": ".py",
   "mimetype": "text/x-python",
   "name": "python",
   "nbconvert_exporter": "python",
   "pygments_lexer": "ipython3",
   "version": "3.7.2"
  }
 },
 "nbformat": 4,
 "nbformat_minor": 2
}